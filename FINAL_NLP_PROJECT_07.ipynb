{
  "cells": [
    {
      "cell_type": "markdown",
      "metadata": {
        "id": "DT25h7ZEOz0P"
      },
      "source": [
        "# **Text Summarizer using NLP techiniques WITHOUT using any libraries**![0_ZF4ZOlUt8em024BE.png](data:image/png;base64,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)\n",
        "\n",
        "  *GROUP NUMBER 07*\n",
        "\n",
        ">   *SRI LAKSHMI PRASANNA KONERU*\n",
        "\n",
        ">   *PEDAPALLI SAAM PRASANTH DEEVEN*\n",
        "\n",
        ">   *PIDAKALA ABHINANDAN BABU*\n",
        "\n",
        ">   *PREMA VIGNESH*\n",
        "\n"
      ]
    },
    {
      "cell_type": "markdown",
      "metadata": {
        "id": "b_eYVAcqTmZ5"
      },
      "source": [
        "#Creating Stopwords #\n",
        "\n",
        ">Stop words are function (filler) words, which are words with little or no meaning that help form a sentence. These words do not have much role in retreiving information or getting to know which sentence is more important. We ignore these stopwords so that we can get to know how important a sentence really is. Here, we are defining the stopwords in a list so that they can be ignored while scoring the sentences to retrieve the most important ones."
      ]
    },
    {
      "cell_type": "code",
      "execution_count": null,
      "metadata": {
        "id": "V74Z9B5kOl8J",
        "colab": {
          "base_uri": "https://localhost:8080/"
        },
        "outputId": "d265fce9-f542-4fc2-a6e9-f4354e0a52bd"
      },
      "outputs": [
        {
          "output_type": "stream",
          "name": "stdout",
          "text": [
            "['anything', 'upon', 'whereafter', 'they', 'between', '’s', 'are', 'nothing', 'six', 'first', 'into', 'top', 'hereupon', 'themselves', 'nowhere', 'well', 'but', 'a', 'if', 'the', 'was', 'amongst', 'whether', 'would', 'serious', 'keep', 'neither', 'who', 'back', 'your', 'now', 'n‘t', 'see', 'only', 'get', 'seems', 'take', 'afterwards', 'next', 'nor', 'own', 'very', 'on', 'each', 'still', \"'ll\", '’ve', 'every', 'move', 'becoming', 'mostly', 'without', 'somewhere', '‘s', 'eleven', 'two', 'alone', 'both', 'anywhere', 'four', 'n’t', 'meanwhile', 'therefore', \"'s\", 'although', 'to', 'others', 'above', 'make', 'various', 'many', 'one', 'he', '’d', 'anyhow', 'not', 'before', 'another', 'whither', 'three', 'else', 'something', 'latterly', 'already', 'being', 'eight', 'thence', 'here', 'what', 'other', 'fifty', '’m', 'out', 'therein', 'because', '‘re', 'beside', 'whereas', 'around', 'bottom', 'more', 'could', 'whence', 'hereafter', 'since', 'twenty', '‘d', 'per', 'seem', 'seeming', 'all', 'in', 'itself', 'behind', 'thereafter', 'none', 'less', 'again', 'though', 'i', 'rather', 'somehow', 'always', 'my', 'at', 'made', 'besides', 'unless', 'former', 'towards', 'when', 'during', 'perhaps', 'over', 'until', 'everyone', 'using', 'which', 'twelve', '’re', 'herself', 'ever', 'regarding', 'down', 'amount', 'be', 'through', 'whereby', 'show', 'from', 'whoever', 'under', 'formerly', 'where', 'his', 'can', 'himself', 'last', 'how', 'or', 'ten', 'is', 'have', 'its', \"'re\", 'some', 'no', 'same', 'sometimes', 'their', 'too', 'nobody', 'than', 'thru', 'were', 'give', 'indeed', 'thereby', 'fifteen', 'for', 'has', 'with', 'except', 'us', '‘m', 'onto', 'whole', 'whatever', 'toward', 'latter', 'used', 'enough', 'elsewhere', 'almost', 'whereupon', 'yet', 'moreover', 'via', 'namely', 'these', 'myself', 'why', 'everything', 'it', 'may', 'five', \"'m\", 'cannot', 'do', 'so', 'me', 'them', 'whom', 'further', 'our', 'those', 'ourselves', 'nevertheless', 'become', '‘ll', 'everywhere', 'empty', 'say', \"'ve\", 'hers', 'ca', 'wherever', 're', 'we', 'once', 'sixty', '’ll', 'really', 'yours', 'whenever', 'hence', 'should', 'even', 'third', 'call', 'such', 'across', 'of', 'quite', 'as', 'least', \"'d\", 'also', 'and', 'thereupon', 'ours', 'much', 'yourself', 'few', 'beforehand', 'hundred', 'among', 'done', 'up', 'does', 'you', 'anyway', 'often', 'name', 'there', 'together', 'forty', 'off', 'might', 'seemed', 'became', 'never', 'below', 'wherein', 'noone', 'beyond', 'mine', 'part', 'must', 'by', 'several', 'throughout', 'then', 'been', 'am', 'him', 'however', 'this', 'due', 'any', 'becomes', 'just', 'whose', 'please', 'full', 'side', 'will', 'most', 'an', 'along', 'doing', 'front', 'while', 'after', 'that', 'anyone', 'put', \"n't\", 'sometime', 'about', 'her', 'within', 'nine', 'go', 'she', 'hereby', 'did', 'against', 'herein', 'either', 'someone', '‘ve', 'yourselves', 'had', 'otherwise', 'thus']\n"
          ]
        }
      ],
      "source": [
        "# Creating a list for the Stopwords \n",
        "stopwords1 = ['anything', 'upon', 'whereafter', 'they', 'between', '’s', 'are', 'nothing', 'six', 'first', 'into', 'top', 'hereupon', 'themselves', 'nowhere', 'well', 'but', 'a', 'if', 'the', 'was', 'amongst', 'whether', 'would', 'serious', 'keep', 'neither', 'who', 'back', 'your', 'now', 'n‘t', 'see', 'only', 'get', 'seems', 'take', 'afterwards', 'next', 'nor', 'own', 'very', 'on', 'each', 'still', \"'ll\", '’ve', 'every', 'move', 'becoming', 'mostly', 'without', 'somewhere', '‘s', 'eleven', 'two', 'alone', 'both', 'anywhere', 'four', 'n’t', 'meanwhile', 'therefore', \"'s\", 'although', 'to', 'others', 'above', 'make', 'various', 'many', 'one', 'he', '’d', 'anyhow', 'not', 'before', 'another', 'whither', 'three', 'else', 'something', 'latterly', 'already', 'being', 'eight', 'thence', 'here', 'what', 'other', 'fifty', '’m', 'out', 'therein', 'because', '‘re', 'beside', 'whereas', 'around', 'bottom', 'more', 'could', 'whence', 'hereafter', 'since', 'twenty', '‘d', 'per', 'seem', 'seeming', 'all', 'in', 'itself', 'behind', 'thereafter', 'none', 'less', 'again', 'though', 'i', 'rather', 'somehow', 'always', 'my', 'at', 'made', 'besides', 'unless', 'former', 'towards', 'when', 'during', 'perhaps', 'over', 'until', 'everyone', 'using', 'which', 'twelve', '’re', 'herself', 'ever', 'regarding', 'down', 'amount', 'be', 'through', 'whereby', 'show', 'from', 'whoever', 'under', 'formerly', 'where', 'his', 'can', 'himself', 'last', 'how', 'or', 'ten', 'is', 'have', 'its', \"'re\", 'some', 'no', 'same', 'sometimes', 'their', 'too', 'nobody', 'than', 'thru', 'were', 'give', 'indeed', 'thereby', 'fifteen', 'for', 'has', 'with', 'except', 'us', '‘m', 'onto', 'whole', 'whatever', 'toward', 'latter', 'used', 'enough', 'elsewhere', 'almost', 'whereupon', 'yet', 'moreover', 'via', 'namely', 'these', 'myself', 'why', 'everything', 'it', 'may', 'five', \"'m\", 'cannot', 'do', 'so', 'me', 'them', 'whom', 'further', 'our', 'those', 'ourselves', 'nevertheless', 'become', '‘ll', 'everywhere', 'empty', 'say', \"'ve\", 'hers', 'ca', 'wherever', 're', 'we', 'once', 'sixty', '’ll', 'really', 'yours', 'whenever', 'hence', 'should', 'even', 'third', 'call', 'such', 'across', 'of', 'quite', 'as', 'least', \"'d\", 'also', 'and', 'thereupon', 'ours', 'much', 'yourself', 'few', 'beforehand', 'hundred', 'among', 'done', 'up', 'does', 'you', 'anyway', 'often', 'name', 'there', 'together', 'forty', 'off', 'might', 'seemed', 'became', 'never', 'below', 'wherein', 'noone', 'beyond', 'mine', 'part', 'must', 'by', 'several', 'throughout', 'then', 'been', 'am', 'him', 'however', 'this', 'due', 'any', 'becomes', 'just', 'whose', 'please', 'full', 'side', 'will', 'most', 'an', 'along', 'doing', 'front', 'while', 'after', 'that', 'anyone', 'put', \"n't\", 'sometime', 'about', 'her', 'within', 'nine', 'go', 'she', 'hereby', 'did', 'against', 'herein', 'either', 'someone', '‘ve', 'yourselves', 'had', 'otherwise', 'thus']\n",
        "print(stopwords1)"
      ]
    },
    {
      "cell_type": "markdown",
      "metadata": {
        "id": "CDS7e0KYVu8w"
      },
      "source": [
        "# Entering the Text #\n",
        "> Here you can enter your text for the process of text Summarization. "
      ]
    },
    {
      "cell_type": "code",
      "execution_count": null,
      "metadata": {
        "colab": {
          "base_uri": "https://localhost:8080/"
        },
        "id": "sixMUm69QWqF",
        "outputId": "0dc9590a-e65a-441f-9067-b296e66d741a"
      },
      "outputs": [
        {
          "name": "stdout",
          "output_type": "stream",
          "text": [
            "Enter your text : I have lots of friends from my childhood but Rushi is my best friend forever. She lives in the apartment adjacent to my house with her parents. She is a nice girl and helping in nature. True friendship is very necessary to all of us to go ahead and get right track in the life. Getting best and true friends in the life is very tough task however some luckiest one get it. She is the first person among my all friends whom I can share my all feeling. She is very good in nature and helps everyone. She is a class monitor and loved by all teachers of the class. She performed well the sports and academic activities. She has good personality and love to help needy people.  #She is very friendly in nature to everyone and meets warmly. She thinks positively and motivates us all time. She talks very politely and never quarrels to me and others. She never tells lie and has good manners. She is very funny person and loves to tell us funny stories and jokes whenever we become sad. She is a compassionate friend and always cares for me. She has ability to do anything hard in her life and I always appreciate her for each small and big achievements. She is a popular student of the school because she is good in academic, sports and other extra activities.  #She always gets high score in the class tests and main exams. She explains any subjective matter in very easy way during exam time. She has good observation power and skill. She catches everything very fast whenever teacher explains in the classroom. She plays football very well and has taken part in many school level and district level competitions and won prizes too.\n"
          ]
        }
      ],
      "source": [
        "# Entering the Text \n",
        "text = input(\"Enter your text : \")"
      ]
    },
    {
      "cell_type": "markdown",
      "metadata": {
        "id": "rUTSWpMsWG0V"
      },
      "source": [
        "#Tokenisation #\n",
        "> Tokenization is essentially splitting a phrase, sentence, paragraph, or an entire text document into smaller units, such as individual words or terms. Each of these smaller units are called tokens. We have used the Split function for this process. In this process we are replacing the punctuation marks with a space in a split function, so that each sentences/paragraphs/entire document splits into single words/Tokens.These tokens help in understanding the context or developing the model for the NLP. The tokenization helps in interpreting the meaning of the text by analyzing the sequence of the words. Tokenization can be done to either separate words or sentences."
      ]
    },
    {
      "cell_type": "code",
      "execution_count": null,
      "metadata": {
        "colab": {
          "base_uri": "https://localhost:8080/"
        },
        "id": "LDJy8OejQe4f",
        "outputId": "37dc6a8d-31e4-451e-a7bf-6c5ba19fd429"
      },
      "outputs": [
        {
          "output_type": "stream",
          "name": "stdout",
          "text": [
            "['i', 'have', 'lots', 'of', 'friends', 'from', 'my', 'childhood', 'but', 'rushi', 'is', 'my', 'best', 'friend', 'forever', 'she', 'lives', 'in', 'the', 'apartment', 'adjacent', 'to', 'my', 'house', 'with', 'her', 'parents', 'she', 'is', 'a', 'nice', 'girl', 'and', 'helping', 'in', 'nature', 'true', 'friendship', 'is', 'very', 'necessary', 'to', 'all', 'of', 'us', 'to', 'go', 'ahead', 'and', 'get', 'right', 'track', 'in', 'the', 'life', 'getting', 'best', 'and', 'true', 'friends', 'in', 'the', 'life', 'is', 'very', 'tough', 'task', 'however', 'some', 'luckiest', 'one', 'get', 'it', 'she', 'is', 'the', 'first', 'person', 'among', 'my', 'all', 'friends', 'whom', 'i', 'can', 'share', 'my', 'all', 'feeling', 'she', 'is', 'very', 'good', 'in', 'nature', 'and', 'helps', 'everyone', 'she', 'is', 'a', 'class', 'monitor', 'and', 'loved', 'by', 'all', 'teachers', 'of', 'the', 'class', 'she', 'performed', 'well', 'the', 'sports', 'and', 'academic', 'activities', 'she', 'has', 'good', 'personality', 'and', 'love', 'to', 'help', 'needy', 'people', 'she', 'is', 'very', 'friendly', 'in', 'nature', 'to', 'everyone', 'and', 'meets', 'warmly', 'she', 'thinks', 'positively', 'and', 'motivates', 'us', 'all', 'time', 'she', 'talks', 'very', 'politely', 'and', 'never', 'quarrels', 'to', 'me', 'and', 'others', 'she', 'never', 'tells', 'lie', 'and', 'has', 'good', 'manners', 'she', 'is', 'very', 'funny', 'person', 'and', 'loves', 'to', 'tell', 'us', 'funny', 'stories', 'and', 'jokes', 'whenever', 'we', 'become', 'sad', 'she', 'is', 'a', 'compassionate', 'friend', 'and', 'always', 'cares', 'for', 'me', 'she', 'has', 'ability', 'to', 'do', 'anything', 'hard', 'in', 'her', 'life', 'and', 'i', 'always', 'appreciate', 'her', 'for', 'each', 'small', 'and', 'big', 'achievements', 'she', 'is', 'a', 'popular', 'student', 'of', 'the', 'school', 'because', 'she', 'is', 'good', 'in', 'academic', 'sports', 'and', 'other', 'extra', 'activities', 'she', 'always', 'gets', 'high', 'score', 'in', 'the', 'class', 'tests', 'and', 'main', 'exams', 'she', 'explains', 'any', 'subjective', 'matter', 'in', 'very', 'easy', 'way', 'during', 'exam', 'time', 'she', 'has', 'good', 'observation', 'power', 'and', 'skill', 'she', 'catches', 'everything', 'very', 'fast', 'whenever', 'teacher', 'explains', 'in', 'the', 'classroom', 'she', 'plays', 'football', 'very', 'well', 'and', 'has', 'taken', 'part', 'in', 'many', 'school', 'level', 'and', 'district', 'level', 'competitions', 'and', 'won', 'prizes', 'too']\n"
          ]
        }
      ],
      "source": [
        "# Tokenisation process\n",
        "text1 = text.replace(\",\",\" \")\n",
        "text2 = text1.replace(\".\",\" \")\n",
        "text3 = text2.replace(\"?\",\" \")\n",
        "text4 = text3.replace(\"/\",\" \")\n",
        "text5 = text4.replace(\"!\",\" \")\n",
        "text6 = text5.replace(\"@\",\" \")\n",
        "text7 = text6.replace(\"#\",\" \")\n",
        "text8 = text7.replace(\"$\",\" \")\n",
        "text9 = text8.replace(\"%\",\" \")\n",
        "text10 = text9.replace(\"^\",\" \")\n",
        "text11 = text10.replace(\"&\",\" \")\n",
        "text12 = text11.replace(\"*\",\" \")\n",
        "text13 = text12.replace(\"(\",\" \")\n",
        "text14 = text13.replace(\")\",\" \")\n",
        "text15 = text14.replace(\"_\",\" \")\n",
        "text16 = text15.replace(\"{\",\" \")\n",
        "text17 = text16.replace(\"}\",\" \")\n",
        "text18 = text17.replace(\"+\",\" \")\n",
        "text19 = text18.replace(\"\\\\\",\" \")\n",
        "text20 = text19.replace(\"|\",\" \")\n",
        "text21 = text20.replace(\"[\",\" \")\n",
        "text22 = text21.replace(\"]\",\" \")\n",
        "text23 = text22.replace(\";\",\" \")\n",
        "text24 = text23.replace(\":\",\" \")\n",
        "text25 = text24.replace(\"<\",\" \")\n",
        "text26 = text25.replace(\">\",\" \")\n",
        "text27 = text26.replace(\"~\",\" \")\n",
        "text28 = text27.lower()\n",
        "data = text28.split()\n",
        "print(data)"
      ]
    },
    {
      "cell_type": "markdown",
      "metadata": {
        "id": "_7FtTfTTlenm"
      },
      "source": [
        "#Word Frequency#\n",
        "> Creating a dictionary for the word frequencies. Taking the data from the text and we will not calculate the word frequencies for the Stopwords and Punctuation marks. If any word is introduced for the first time then the frequency of that word will be 1, if the word is being occured for the second time then it will be incremented by one. "
      ]
    },
    {
      "cell_type": "code",
      "execution_count": null,
      "metadata": {
        "colab": {
          "base_uri": "https://localhost:8080/"
        },
        "id": "OSZpo8a-QmIa",
        "outputId": "de80377f-7c00-42ac-8bf2-f793a33965a8"
      },
      "outputs": [
        {
          "output_type": "stream",
          "name": "stdout",
          "text": [
            "Frequency for each word is: {'lots': 1, 'friends': 3, 'childhood': 1, 'rushi': 1, 'best': 2, 'friend': 2, 'forever': 1, 'lives': 1, 'apartment': 1, 'adjacent': 1, 'house': 1, 'parents': 1, 'nice': 1, 'girl': 1, 'helping': 1, 'nature': 3, 'true': 2, 'friendship': 1, 'necessary': 1, 'ahead': 1, 'right': 1, 'track': 1, 'life': 3, 'getting': 1, 'tough': 1, 'task': 1, 'luckiest': 1, 'person': 2, 'share': 1, 'feeling': 1, 'good': 5, 'helps': 1, 'class': 3, 'monitor': 1, 'loved': 1, 'teachers': 1, 'performed': 1, 'sports': 2, 'academic': 2, 'activities': 2, 'personality': 1, 'love': 1, 'help': 1, 'needy': 1, 'people': 1, 'friendly': 1, 'meets': 1, 'warmly': 1, 'thinks': 1, 'positively': 1, 'motivates': 1, 'time': 2, 'talks': 1, 'politely': 1, 'quarrels': 1, 'tells': 1, 'lie': 1, 'manners': 1, 'funny': 2, 'loves': 1, 'tell': 1, 'stories': 1, 'jokes': 1, 'sad': 1, 'compassionate': 1, 'cares': 1, 'ability': 1, 'hard': 1, 'appreciate': 1, 'small': 1, 'big': 1, 'achievements': 1, 'popular': 1, 'student': 1, 'school': 2, 'extra': 1, 'gets': 1, 'high': 1, 'score': 1, 'tests': 1, 'main': 1, 'exams': 1, 'explains': 2, 'subjective': 1, 'matter': 1, 'easy': 1, 'way': 1, 'exam': 1, 'observation': 1, 'power': 1, 'skill': 1, 'catches': 1, 'fast': 1, 'teacher': 1, 'classroom': 1, 'plays': 1, 'football': 1, 'taken': 1, 'level': 2, 'district': 1, 'competitions': 1, 'won': 1, 'prizes': 1}\n"
          ]
        }
      ],
      "source": [
        "#Calculating the Frequency (repetation) for each word\n",
        "\n",
        "word_frequencies = {}\n",
        "for word in data:\n",
        "  if word.lower() not in stopwords1:\n",
        "      if word.lower() not in word_frequencies.keys():\n",
        "        word_frequencies[word] = 1\n",
        "      else:\n",
        "        word_frequencies[word] += 1\n",
        "\n",
        "print(\"Frequency for each word is:\", word_frequencies)"
      ]
    },
    {
      "cell_type": "markdown",
      "metadata": {
        "id": "gnCffpsY3ZOm"
      },
      "source": [
        "#Maximium Frequency#\n",
        "> Obtaining the word with highest frequency from the word Frequency. "
      ]
    },
    {
      "cell_type": "code",
      "execution_count": null,
      "metadata": {
        "colab": {
          "base_uri": "https://localhost:8080/"
        },
        "id": "3_m3VrNuQqhh",
        "outputId": "cf1065b0-a64f-4aaa-97ea-b3eda54b55cc"
      },
      "outputs": [
        {
          "output_type": "stream",
          "name": "stdout",
          "text": [
            "The maximium frequency is: 5\n"
          ]
        }
      ],
      "source": [
        "# Maximium Frequency \n",
        "max_frequency = max(word_frequencies.values())\n",
        "print(\"The maximium frequency is:\", max_frequency)"
      ]
    },
    {
      "cell_type": "markdown",
      "metadata": {
        "id": "CVOEguKlBIoy"
      },
      "source": [
        "#Normalized Frequency#\n",
        "> We will divide each word frequencies with maximium frequencies, this is to bring the normalized frequency. "
      ]
    },
    {
      "cell_type": "code",
      "execution_count": null,
      "metadata": {
        "colab": {
          "base_uri": "https://localhost:8080/"
        },
        "id": "cFrEjNh3RA64",
        "outputId": "54aaebb2-02df-4b7a-d623-793da1ccf223"
      },
      "outputs": [
        {
          "output_type": "stream",
          "name": "stdout",
          "text": [
            "{'lots': 0.2, 'friends': 0.6, 'childhood': 0.2, 'rushi': 0.2, 'best': 0.4, 'friend': 0.4, 'forever': 0.2, 'lives': 0.2, 'apartment': 0.2, 'adjacent': 0.2, 'house': 0.2, 'parents': 0.2, 'nice': 0.2, 'girl': 0.2, 'helping': 0.2, 'nature': 0.6, 'true': 0.4, 'friendship': 0.2, 'necessary': 0.2, 'ahead': 0.2, 'right': 0.2, 'track': 0.2, 'life': 0.6, 'getting': 0.2, 'tough': 0.2, 'task': 0.2, 'luckiest': 0.2, 'person': 0.4, 'share': 0.2, 'feeling': 0.2, 'good': 1.0, 'helps': 0.2, 'class': 0.6, 'monitor': 0.2, 'loved': 0.2, 'teachers': 0.2, 'performed': 0.2, 'sports': 0.4, 'academic': 0.4, 'activities': 0.4, 'personality': 0.2, 'love': 0.2, 'help': 0.2, 'needy': 0.2, 'people': 0.2, 'friendly': 0.2, 'meets': 0.2, 'warmly': 0.2, 'thinks': 0.2, 'positively': 0.2, 'motivates': 0.2, 'time': 0.4, 'talks': 0.2, 'politely': 0.2, 'quarrels': 0.2, 'tells': 0.2, 'lie': 0.2, 'manners': 0.2, 'funny': 0.4, 'loves': 0.2, 'tell': 0.2, 'stories': 0.2, 'jokes': 0.2, 'sad': 0.2, 'compassionate': 0.2, 'cares': 0.2, 'ability': 0.2, 'hard': 0.2, 'appreciate': 0.2, 'small': 0.2, 'big': 0.2, 'achievements': 0.2, 'popular': 0.2, 'student': 0.2, 'school': 0.4, 'extra': 0.2, 'gets': 0.2, 'high': 0.2, 'score': 0.2, 'tests': 0.2, 'main': 0.2, 'exams': 0.2, 'explains': 0.4, 'subjective': 0.2, 'matter': 0.2, 'easy': 0.2, 'way': 0.2, 'exam': 0.2, 'observation': 0.2, 'power': 0.2, 'skill': 0.2, 'catches': 0.2, 'fast': 0.2, 'teacher': 0.2, 'classroom': 0.2, 'plays': 0.2, 'football': 0.2, 'taken': 0.2, 'level': 0.4, 'district': 0.2, 'competitions': 0.2, 'won': 0.2, 'prizes': 0.2}\n"
          ]
        }
      ],
      "source": [
        "for word in word_frequencies.keys():\n",
        "  word_frequencies[word] = word_frequencies[word]/max_frequency\n",
        "print(word_frequencies)"
      ]
    },
    {
      "cell_type": "markdown",
      "metadata": {
        "id": "Z6zGBkW73ePD"
      },
      "source": [
        "#Sentence Tokenisation#\n",
        "> Sentence tokenization is the process of splitting text into individual sentences. These tokenizers work by separating the words using punctuation and spaces. These tokens help in understanding the context or developing the model for the NLP. The tokenization helps in interpreting the meaning of the text by analyzing the sequence of the words."
      ]
    },
    {
      "cell_type": "code",
      "execution_count": null,
      "metadata": {
        "colab": {
          "base_uri": "https://localhost:8080/"
        },
        "id": "jRp1uQbSRTaL",
        "outputId": "6dcca5ff-1f90-45d2-b2f3-acf0d3fef3bf"
      },
      "outputs": [
        {
          "output_type": "stream",
          "name": "stdout",
          "text": [
            "['I have lots of friends from my childhood but Rushi is my best friend forever', ' She lives in the apartment adjacent to my house with her parents', ' She is a nice girl and helping in nature', ' True friendship is very necessary to all of us to go ahead and get right track in the life', ' Getting best and true friends in the life is very tough task however some luckiest one get it', ' She is the first person among my all friends whom I can share my all feeling', ' She is very good in nature and helps everyone', ' She is a class monitor and loved by all teachers of the class', ' She performed well the sports and academic activities', ' She has good personality and love to help needy people', '  #She is very friendly in nature to everyone and meets warmly', ' She thinks positively and motivates us all time', ' She talks very politely and never quarrels to me and others', ' She never tells lie and has good manners', ' She is very funny person and loves to tell us funny stories and jokes whenever we become sad', ' She is a compassionate friend and always cares for me', ' She has ability to do anything hard in her life and I always appreciate her for each small and big achievements', ' She is a popular student of the school because she is good in academic, sports and other extra activities', '  #She always gets high score in the class tests and main exams', ' She explains any subjective matter in very easy way during exam time', ' She has good observation power and skill', ' She catches everything very fast whenever teacher explains in the classroom', ' She plays football very well and has taken part in many school level and district level competitions and won prizes too', '']\n",
            "I have lots of friends from my childhood but Rushi is my best friend forever\n",
            " She plays football very well and has taken part in many school level and district level competitions and won prizes too\n"
          ]
        }
      ],
      "source": [
        "# Sentence tokenisation \n",
        "sentence_tokens = [sent for sent in text.split(\".\")]\n",
        "print(sentence_tokens)\n",
        "if len(sentence_tokens) >1:\n",
        "  first_sent=sentence_tokens[0]\n",
        "  if sentence_tokens[-1] == '':\n",
        "    last_sent=sentence_tokens[-2]\n",
        "  else:\n",
        "    last_sent=sentence_tokens[-1]\n",
        "  print(first_sent)\n",
        "  print(last_sent)\n",
        "else:\n",
        "  print(\"There is only one sentence/word in the text input given\")"
      ]
    },
    {
      "cell_type": "markdown",
      "metadata": {
        "id": "uFlf4knZHNzT"
      },
      "source": [
        "#Sentence Scores#\n",
        "> We calculated the sentence scores by adding up the normalized word frequencies of the words present in the sentence after ignoring the stopwords.\n"
      ]
    },
    {
      "cell_type": "code",
      "execution_count": null,
      "metadata": {
        "id": "HwDSaEKNRX8m"
      },
      "outputs": [],
      "source": [
        "# Calculating sentence Score/frequencies.\n",
        "sentence_scores = {}\n",
        "for sent in sentence_tokens:\n",
        "  sent1 = sent.split()\n",
        "  for word in sent1:\n",
        "    if word.lower() in word_frequencies.keys():\n",
        "      if sent not in sentence_scores.keys():\n",
        "        sentence_scores[sent] = word_frequencies[word.lower()]\n",
        "      else:\n",
        "        sentence_scores[sent] = sentence_scores[sent] + word_frequencies[word.lower()]"
      ]
    },
    {
      "cell_type": "code",
      "execution_count": null,
      "metadata": {
        "colab": {
          "base_uri": "https://localhost:8080/"
        },
        "id": "XBHlQfzHRbqo",
        "outputId": "c61bd9bd-39f2-4f04-a0d9-b81de13d2eb5"
      },
      "outputs": [
        {
          "output_type": "stream",
          "name": "stdout",
          "text": [
            "{'I have lots of friends from my childhood but Rushi is my best friend forever': 2.2, ' She lives in the apartment adjacent to my house with her parents': 1.0, ' She is a nice girl and helping in nature': 1.2000000000000002, ' True friendship is very necessary to all of us to go ahead and get right track in the life': 2.0, ' Getting best and true friends in the life is very tough task however some luckiest one get it': 2.8000000000000007, ' She is the first person among my all friends whom I can share my all feeling': 1.4, ' She is very good in nature and helps everyone': 1.8, ' She is a class monitor and loved by all teachers of the class': 1.7999999999999998, ' She performed well the sports and academic activities': 1.4, ' She has good personality and love to help needy people': 1.9999999999999998, '  #She is very friendly in nature to everyone and meets warmly': 1.2, ' She thinks positively and motivates us all time': 1.0, ' She talks very politely and never quarrels to me and others': 0.6000000000000001, ' She never tells lie and has good manners': 1.5999999999999999, ' She is very funny person and loves to tell us funny stories and jokes whenever we become sad': 2.2, ' She is a compassionate friend and always cares for me': 0.8, ' She has ability to do anything hard in her life and I always appreciate her for each small and big achievements': 1.7999999999999998, ' She is a popular student of the school because she is good in academic, sports and other extra activities': 2.8000000000000003, '  #She always gets high score in the class tests and main exams': 1.8, ' She explains any subjective matter in very easy way during exam time': 1.7999999999999998, ' She has good observation power and skill': 1.5999999999999999, ' She catches everything very fast whenever teacher explains in the classroom': 1.2, ' She plays football very well and has taken part in many school level and district level competitions and won prizes too': 2.6000000000000005}\n"
          ]
        },
        {
          "output_type": "execute_result",
          "data": {
            "text/plain": [
              "23"
            ]
          },
          "metadata": {},
          "execution_count": 9
        }
      ],
      "source": [
        "# Printing the sentence scores\n",
        "print(sentence_scores)\n",
        "len(sentence_scores)"
      ]
    },
    {
      "cell_type": "markdown",
      "metadata": {
        "id": "YgnUxrkimfcR"
      },
      "source": [
        "**Here we are taking the number of summary lines to be generated as an input from the user**"
      ]
    },
    {
      "cell_type": "code",
      "execution_count": null,
      "metadata": {
        "id": "NrqdO31MReyM",
        "colab": {
          "base_uri": "https://localhost:8080/"
        },
        "outputId": "2ed91f3e-40a0-4ace-a7da-31b50768b0ca"
      },
      "outputs": [
        {
          "name": "stdout",
          "output_type": "stream",
          "text": [
            "Number of summary lines: 5\n"
          ]
        }
      ],
      "source": [
        "summary_lines=int(input(\"Number of summary lines: \"))"
      ]
    },
    {
      "cell_type": "markdown",
      "metadata": {
        "id": "drO_MKz7mxGk"
      },
      "source": [
        "#Generating Summary #\n",
        "> We are generating the summary by initializing it with the first sentence then, splitting the sentence_scores dictionary into two lists key_list and val_list respectively. We are adding the sentences with high scores to the summary and finally adding the last sentence to the summary."
      ]
    },
    {
      "cell_type": "code",
      "execution_count": null,
      "metadata": {
        "id": "jNb2W0RwXeOx",
        "colab": {
          "base_uri": "https://localhost:8080/"
        },
        "outputId": "f0c98760-833e-472b-b478-8ec3764933f1"
      },
      "outputs": [
        {
          "output_type": "stream",
          "name": "stdout",
          "text": [
            "I have lots of friends from my childhood but Rushi is my best friend forever.  Getting best and true friends in the life is very tough task however some luckiest one get it.  She is a popular student of the school because she is good in academic, sports and other extra activities.  She is very funny person and loves to tell us funny stories and jokes whenever we become sad.  She plays football very well and has taken part in many school level and district level competitions and won prizes too\n"
          ]
        }
      ],
      "source": [
        "if summary_lines > len(sentence_scores):\n",
        "  print(\"Summary lines cannot be greater than the lines in the given text\")\n",
        "  summary = \"\"\n",
        "elif summary_lines < 0:\n",
        "  summary = \"\"\n",
        "  print(\"Invalid summary lines\")\n",
        "elif summary_lines == 0:\n",
        "  summary = \"\"\n",
        "elif summary_lines == 1:\n",
        "  summary = first_sent\n",
        "else:\n",
        "  summary_lines = summary_lines-2\n",
        "  summary = first_sent\n",
        "  key_list = list(sentence_scores.keys())\n",
        "  val_list = list(sentence_scores.values())\n",
        "  del key_list[0]\n",
        "  del val_list[0]\n",
        "  del key_list[-1]\n",
        "  del val_list[-1]\n",
        "  while summary_lines is not 0:\n",
        "    position = val_list.index(max(val_list))\n",
        "    summary += \". \" + key_list[position]\n",
        "    del val_list[position]\n",
        "    del key_list[position]\n",
        "    summary_lines -= 1\n",
        "  summary = summary + \". \" + last_sent\n",
        "  print(summary)"
      ]
    },
    {
      "cell_type": "code",
      "execution_count": null,
      "metadata": {
        "id": "NtWm6StdXlb6",
        "colab": {
          "base_uri": "https://localhost:8080/"
        },
        "outputId": "2f189efe-914d-424c-cbaa-64b6a164d917"
      },
      "outputs": [
        {
          "output_type": "stream",
          "name": "stdout",
          "text": [
            "_______________________________________________________________________________________________________________________________________________________________________________________________________________________\n",
            "\t\t\t\t\t\t*GIVEN TEXT* \n",
            "_______________________________________________________________________________________________________________________________________________________________________________________________________________________\n",
            "I have lots of friends from my childhood but Rushi is my best friend forever. She lives in the apartment adjacent to my house with her parents. She is a nice girl and helping in nature. True friendship is very necessary to all of us to go ahead and get right track in the life. Getting best and true friends in the life is very tough task however some luckiest one get it. She is the first person among my all friends whom I can share my all feeling. She is very good in nature and helps everyone. She is a class monitor and loved by all teachers of the class. She performed well the sports and academic activities. She has good personality and love to help needy people.  #She is very friendly in nature to everyone and meets warmly. She thinks positively and motivates us all time. She talks very politely and never quarrels to me and others. She never tells lie and has good manners. She is very funny person and loves to tell us funny stories and jokes whenever we become sad. She is a compassionate friend and always cares for me. She has ability to do anything hard in her life and I always appreciate her for each small and big achievements. She is a popular student of the school because she is good in academic, sports and other extra activities.  #She always gets high score in the class tests and main exams. She explains any subjective matter in very easy way during exam time. She has good observation power and skill. She catches everything very fast whenever teacher explains in the classroom. She plays football very well and has taken part in many school level and district level competitions and won prizes too.\n"
          ]
        }
      ],
      "source": [
        "print(\"_\"*215)\n",
        "print(\"\\t\\t\\t\\t\\t\\t*GIVEN TEXT* \")\n",
        "print(\"_\"*215)\n",
        "print(text)"
      ]
    },
    {
      "cell_type": "markdown",
      "metadata": {
        "id": "6GxZs3tvUJPX"
      },
      "source": [
        "#Output\n"
      ]
    },
    {
      "cell_type": "code",
      "execution_count": null,
      "metadata": {
        "id": "0tfwRn1HYvTR",
        "colab": {
          "base_uri": "https://localhost:8080/"
        },
        "outputId": "2c596652-86f6-4ed8-bb07-f6b8deebc591"
      },
      "outputs": [
        {
          "output_type": "stream",
          "name": "stdout",
          "text": [
            "Length of Original text : 1629\n",
            "Length of Summary  : 497\n",
            "_______________________________________________________________________________________________________________________________________________________________________________________________________________________\n",
            "\t\t\t\t\t\t SUMMARY GENERATED\n",
            "_______________________________________________________________________________________________________________________________________________________________________________________________________________________\n",
            "I have lots of friends from my childhood but Rushi is my best friend forever.  Getting best and true friends in the life is very tough task however some luckiest one get it.  She is a popular student of the school because she is good in academic, sports and other extra activities.  She is very funny person and loves to tell us funny stories and jokes whenever we become sad.  She plays football very well and has taken part in many school level and district level competitions and won prizes too\n"
          ]
        }
      ],
      "source": [
        "print(\"Length of Original text :\",len(text))\n",
        "print(\"Length of Summary  :\",len(summary))\n",
        "print(\"_\"*215)\n",
        "print(\"\\t\\t\\t\\t\\t\\t SUMMARY GENERATED\")\n",
        "print(\"_\"*215)\n",
        "print(summary)"
      ]
    }
  ],
  "metadata": {
    "colab": {
      "collapsed_sections": [],
      "name": "FINAL_NLP_PROJECT_07.ipynb",
      "provenance": []
    },
    "kernelspec": {
      "display_name": "Python 3",
      "name": "python3"
    },
    "language_info": {
      "name": "python"
    }
  },
  "nbformat": 4,
  "nbformat_minor": 0
}